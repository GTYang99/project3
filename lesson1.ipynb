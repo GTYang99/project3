{
 "cells": [
  {
   "cell_type": "code",
   "execution_count": 1,
   "metadata": {},
   "outputs": [
    {
     "name": "stdout",
     "output_type": "stream",
     "text": [
      "Hello World!\n"
     ]
    }
   ],
   "source": [
    "print('Hello World!')"
   ]
  },
  {
   "cell_type": "code",
   "execution_count": 6,
   "metadata": {},
   "outputs": [
    {
     "name": "stdout",
     "output_type": "stream",
     "text": [
      "2022-11-02\n",
      "2022\n",
      "11\n",
      "2\n"
     ]
    }
   ],
   "source": [
    "from datetime import date\n",
    "# date只有日期沒有時間\n",
    "Today = date(2022,11,2)\n",
    "print(Today)\n",
    "print(Today.year)\n",
    "print(Today.month)\n",
    "print(Today.day)"
   ]
  },
  {
   "cell_type": "code",
   "execution_count": 17,
   "metadata": {},
   "outputs": [
    {
     "name": "stdout",
     "output_type": "stream",
     "text": [
      "2022-11-02\n",
      "<class 'datetime.date'>\n",
      "今天: 2022\n",
      "今天: 11\n",
      "今天: 2\n",
      "今天星期: 2\n",
      "明天: 2022\n",
      "明天: 11\n",
      "明天: 3\n",
      "明天星期: 3\n",
      "昨天: 2022\n",
      "昨天: 11\n",
      "昨天: 1\n",
      "昨天星期: 1\n"
     ]
    }
   ],
   "source": [
    "from datetime import date, timedelta\n",
    "now = date.today()\n",
    "print(now)\n",
    "print(type(now))\n",
    "print('今天年份:',now.year)\n",
    "print('今天月:',now.month)\n",
    "print('今天日:',now.day)\n",
    "print('今天星期:',now.weekday())\n",
    "\n",
    "one_day = timedelta(days=1)\n",
    "\n",
    "tomorrow = now + one_day\n",
    "print('明天年份:',tomorrow.year)\n",
    "print('明天月:',tomorrow.month)\n",
    "print('明天日:',tomorrow.day)\n",
    "print('明天星期:',tomorrow.weekday())\n",
    "\n",
    "yesterday = now - one_day\n",
    "print('昨天年份:',yesterday.year)\n",
    "print('昨天月:',yesterday.month)\n",
    "print('昨天日:',yesterday.day)\n",
    "print('昨天星期:',yesterday.weekday())"
   ]
  },
  {
   "cell_type": "code",
   "execution_count": 20,
   "metadata": {},
   "outputs": [
    {
     "name": "stdout",
     "output_type": "stream",
     "text": [
      "2\n",
      "59\n",
      "57\n"
     ]
    }
   ],
   "source": [
    "from datetime import time\n",
    "# 時間數字範圍需要在進位的尺度以內\n",
    "noon = time(hour=2,minute=59,second=57)\n",
    "print(noon.hour)\n",
    "print(noon.minute)\n",
    "print(noon.second)"
   ]
  },
  {
   "cell_type": "code",
   "execution_count": 23,
   "metadata": {},
   "outputs": [
    {
     "name": "stdout",
     "output_type": "stream",
     "text": [
      "11\n",
      "2\n",
      "2022\n",
      "11\n",
      "49\n",
      "2\n"
     ]
    }
   ],
   "source": [
    "# datetime modual中有一個datetime\n",
    "from datetime import datetime\n",
    "now = datetime.now()\n",
    "print(now.month)\n",
    "print(now.day)\n",
    "print(now.year)\n",
    "print(now.hour)\n",
    "print(now.minute)\n",
    "print(now.second)\n"
   ]
  },
  {
   "cell_type": "code",
   "execution_count": 29,
   "metadata": {},
   "outputs": [
    {
     "name": "stdout",
     "output_type": "stream",
     "text": [
      "2022-11-02 13:48:08.743663\n",
      "11\n",
      "2\n",
      "2022\n",
      "13\n",
      "48\n",
      "8\n",
      "民國111年11月2日13點48分\n"
     ]
    }
   ],
   "source": [
    "from datetime import datetime\n",
    "current = datetime.now()\n",
    "print(current)\n",
    "print(current.month)\n",
    "print(current.day)\n",
    "print(current.year)\n",
    "print(current.hour)\n",
    "print(current.minute)\n",
    "print(current.second)\n",
    "\n",
    "print(f'民國{current.year-1911}年{current.month}月{current.day}日{current.hour}點{current.minute}分')"
   ]
  },
  {
   "cell_type": "code",
   "execution_count": 32,
   "metadata": {},
   "outputs": [
    {
     "data": {
      "text/plain": [
       "'2022-11-02 13-48-08'"
      ]
     },
     "execution_count": 32,
     "metadata": {},
     "output_type": "execute_result"
    }
   ],
   "source": [
    "# 使用datetime中實體方法strftime()，將現在時間列印出來\n",
    "current.strftime(\"%Y-%m-%d %H:%M:%S\")"
   ]
  },
  {
   "cell_type": "code",
   "execution_count": 37,
   "metadata": {},
   "outputs": [
    {
     "name": "stdout",
     "output_type": "stream",
     "text": [
      "2022-11-02 13:48:08\n",
      "11\n",
      "2\n",
      "2022\n",
      "13\n",
      "48\n",
      "8\n"
     ]
    }
   ],
   "source": [
    "# 字串轉為時間\n",
    "datetime_str = '2022-11-02 13:48:08'\n",
    "datetime_obj = datetime.strptime(datetime_str,'%Y-%m-%d %H:%M:%S')\n",
    "print(datetime_str)\n",
    "print(datetime_obj.month)\n",
    "print(datetime_obj.day)\n",
    "print(datetime_obj.year)\n",
    "print(datetime_obj.hour)\n",
    "print(datetime_obj.minute)\n",
    "print(datetime_obj.second)"
   ]
  }
 ],
 "metadata": {
  "kernelspec": {
   "display_name": "Python 3.9.2 ('venv03')",
   "language": "python",
   "name": "python3"
  },
  "language_info": {
   "codemirror_mode": {
    "name": "ipython",
    "version": 3
   },
   "file_extension": ".py",
   "mimetype": "text/x-python",
   "name": "python",
   "nbconvert_exporter": "python",
   "pygments_lexer": "ipython3",
   "version": "3.9.2"
  },
  "orig_nbformat": 4,
  "vscode": {
   "interpreter": {
    "hash": "f0a22ababe98e7ab9c01d2922448052666697295ff074604cbdab1201993c8a2"
   }
  }
 },
 "nbformat": 4,
 "nbformat_minor": 2
}
